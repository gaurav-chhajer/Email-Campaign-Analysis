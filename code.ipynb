{
 "cells": [
  {
   "cell_type": "markdown",
   "id": "49e074e4",
   "metadata": {},
   "source": [
    "Email Campaign Performance Analysis"
   ]
  },
  {
   "cell_type": "markdown",
   "id": "ef4b59e7",
   "metadata": {},
   "source": [
    " Section 1: Loading and Inspecting the Data"
   ]
  },
  {
   "cell_type": "code",
   "execution_count": 1,
   "id": "ecf8cc83",
   "metadata": {},
   "outputs": [
    {
     "data": {
      "text/html": [
       "<div>\n",
       "<style scoped>\n",
       "    .dataframe tbody tr th:only-of-type {\n",
       "        vertical-align: middle;\n",
       "    }\n",
       "\n",
       "    .dataframe tbody tr th {\n",
       "        vertical-align: top;\n",
       "    }\n",
       "\n",
       "    .dataframe thead th {\n",
       "        text-align: right;\n",
       "    }\n",
       "</style>\n",
       "<table border=\"1\" class=\"dataframe\">\n",
       "  <thead>\n",
       "    <tr style=\"text-align: right;\">\n",
       "      <th></th>\n",
       "      <th>email_id</th>\n",
       "      <th>email_text</th>\n",
       "      <th>email_version</th>\n",
       "      <th>hour</th>\n",
       "      <th>weekday</th>\n",
       "      <th>user_country</th>\n",
       "      <th>user_past_purchases</th>\n",
       "    </tr>\n",
       "  </thead>\n",
       "  <tbody>\n",
       "    <tr>\n",
       "      <th>0</th>\n",
       "      <td>85120</td>\n",
       "      <td>short_email</td>\n",
       "      <td>personalized</td>\n",
       "      <td>2</td>\n",
       "      <td>Sunday</td>\n",
       "      <td>US</td>\n",
       "      <td>5</td>\n",
       "    </tr>\n",
       "    <tr>\n",
       "      <th>1</th>\n",
       "      <td>966622</td>\n",
       "      <td>long_email</td>\n",
       "      <td>personalized</td>\n",
       "      <td>12</td>\n",
       "      <td>Sunday</td>\n",
       "      <td>UK</td>\n",
       "      <td>2</td>\n",
       "    </tr>\n",
       "    <tr>\n",
       "      <th>2</th>\n",
       "      <td>777221</td>\n",
       "      <td>long_email</td>\n",
       "      <td>personalized</td>\n",
       "      <td>11</td>\n",
       "      <td>Wednesday</td>\n",
       "      <td>US</td>\n",
       "      <td>2</td>\n",
       "    </tr>\n",
       "    <tr>\n",
       "      <th>3</th>\n",
       "      <td>493711</td>\n",
       "      <td>short_email</td>\n",
       "      <td>generic</td>\n",
       "      <td>6</td>\n",
       "      <td>Monday</td>\n",
       "      <td>UK</td>\n",
       "      <td>1</td>\n",
       "    </tr>\n",
       "    <tr>\n",
       "      <th>4</th>\n",
       "      <td>106887</td>\n",
       "      <td>long_email</td>\n",
       "      <td>generic</td>\n",
       "      <td>14</td>\n",
       "      <td>Monday</td>\n",
       "      <td>US</td>\n",
       "      <td>6</td>\n",
       "    </tr>\n",
       "  </tbody>\n",
       "</table>\n",
       "</div>"
      ],
      "text/plain": [
       "   email_id   email_text email_version  hour    weekday user_country  \\\n",
       "0     85120  short_email  personalized     2     Sunday           US   \n",
       "1    966622   long_email  personalized    12     Sunday           UK   \n",
       "2    777221   long_email  personalized    11  Wednesday           US   \n",
       "3    493711  short_email       generic     6     Monday           UK   \n",
       "4    106887   long_email       generic    14     Monday           US   \n",
       "\n",
       "   user_past_purchases  \n",
       "0                    5  \n",
       "1                    2  \n",
       "2                    2  \n",
       "3                    1  \n",
       "4                    6  "
      ]
     },
     "execution_count": 1,
     "metadata": {},
     "output_type": "execute_result"
    }
   ],
   "source": [
    "import pandas as pd\n",
    "\n",
    "# Load CSV files\n",
    "email_df = pd.read_csv(\"Dataset/email_table.csv\")\n",
    "opened_df = pd.read_csv(\"Dataset/email_opened_table.csv\")\n",
    "clicked_df = pd.read_csv(\"Dataset/link_clicked_table.csv\")\n",
    "\n",
    "# Display structure\n",
    "email_df.head()"
   ]
  },
  {
   "cell_type": "markdown",
   "id": "84b1ea19",
   "metadata": {},
   "source": [
    "Section 2: Calculating the percentage of users who opened the email and the percentage of users who clicked on the link within the email"
   ]
  },
  {
   "cell_type": "code",
   "execution_count": 11,
   "id": "5687269a",
   "metadata": {},
   "outputs": [
    {
     "name": "stdout",
     "output_type": "stream",
     "text": [
      "Open Rate: 10.35%\n",
      "Click-Through Rate: 2.12%\n"
     ]
    }
   ],
   "source": [
    "# Add flags for whether an email was opened or clicked\n",
    "email_df['opened'] = email_df['email_id'].isin(opened_df['email_id']).astype(int)\n",
    "email_df['clicked'] = email_df['email_id'].isin(clicked_df['email_id']).astype(int)\n",
    "\n",
    "# Calculate open and click-through rates\n",
    "open_rate = email_df['opened'].mean() * 100\n",
    "click_rate = email_df['clicked'].mean() * 100\n",
    "\n",
    "print(f\"Open Rate: {open_rate:.2f}%\")\n",
    "print(f\"Click-Through Rate: {click_rate:.2f}%\")"
   ]
  },
  {
   "cell_type": "markdown",
   "id": "fdfab3a8",
   "metadata": {},
   "source": [
    "Section 3: Building a model to optimize email targeting based on click probability"
   ]
  },
  {
   "cell_type": "code",
   "execution_count": 12,
   "id": "bda09da5",
   "metadata": {},
   "outputs": [
    {
     "name": "stdout",
     "output_type": "stream",
     "text": [
      "Classification Report:\n",
      "              precision    recall  f1-score   support\n",
      "\n",
      "           0       0.98      1.00      0.99     24470\n",
      "           1       0.09      0.02      0.03       530\n",
      "\n",
      "    accuracy                           0.98     25000\n",
      "   macro avg       0.53      0.51      0.51     25000\n",
      "weighted avg       0.96      0.98      0.97     25000\n",
      "\n",
      "ROC AUC Score: 0.5815941738439832\n"
     ]
    }
   ],
   "source": [
    "from sklearn.model_selection import train_test_split\n",
    "from sklearn.ensemble import RandomForestClassifier\n",
    "from sklearn.metrics import classification_report, roc_auc_score\n",
    "from sklearn.preprocessing import OneHotEncoder\n",
    "from sklearn.compose import ColumnTransformer\n",
    "from sklearn.pipeline import Pipeline\n",
    "\n",
    "# Define input features and target\n",
    "features = ['email_text', 'email_version', 'hour', 'weekday', 'user_country', 'user_past_purchases']\n",
    "target = 'clicked'\n",
    "X = email_df[features]\n",
    "y = email_df[target]\n",
    "\n",
    "# Preprocessing\n",
    "categorical_cols = ['email_text', 'email_version', 'weekday', 'user_country']\n",
    "numeric_cols = ['hour', 'user_past_purchases']\n",
    "\n",
    "preprocessor = ColumnTransformer([\n",
    "    ('cat', OneHotEncoder(handle_unknown='ignore'), categorical_cols),\n",
    "    ('num', 'passthrough', numeric_cols)\n",
    "])\n",
    "\n",
    "pipeline = Pipeline([\n",
    "    ('preprocessor', preprocessor),\n",
    "    ('classifier', RandomForestClassifier(n_estimators=100, random_state=42))\n",
    "])\n",
    "\n",
    "# Train-test split\n",
    "X_train, X_test, y_train, y_test = train_test_split(X, y, stratify=y, random_state=42)\n",
    "pipeline.fit(X_train, y_train)\n",
    "\n",
    "# Evaluate model\n",
    "y_pred = pipeline.predict(X_test)\n",
    "y_proba = pipeline.predict_proba(X_test)[:, 1]\n",
    "\n",
    "print(\"Classification Report:\")\n",
    "print(classification_report(y_test, y_pred))\n",
    "print(\"ROC AUC Score:\", roc_auc_score(y_test, y_proba))"
   ]
  },
  {
   "cell_type": "markdown",
   "id": "655b1f7e",
   "metadata": {},
   "source": [
    "Section 4: Calculating the rate by which the model can improve the click-through rate"
   ]
  },
  {
   "cell_type": "code",
   "execution_count": 15,
   "id": "d026988e",
   "metadata": {},
   "outputs": [
    {
     "name": "stdout",
     "output_type": "stream",
     "text": [
      "Model-Based CTR (Top 10% Users): 3.96%\n",
      "Improvement Over Actual CTR (2.12%): 1.84%\n"
     ]
    }
   ],
   "source": [
    "# Add predicted probabilities to test set\n",
    "X_test_copy = X_test.copy()\n",
    "X_test_copy['true_clicked'] = y_test.values\n",
    "X_test_copy['predicted_proba'] = y_proba\n",
    "\n",
    "# Simulate targeting only top 10% most likely to click\n",
    "top_10_percent = int(0.10 * len(X_test_copy))\n",
    "top_users = X_test_copy.sort_values('predicted_proba', ascending=False).head(top_10_percent)\n",
    "\n",
    "# Model-based CTR among top 10% likely users\n",
    "model_ctr = top_users['true_clicked'].mean() * 100\n",
    "\n",
    "print(f\"Model-Based CTR (Top 10% Users): {model_ctr:.2f}%\")\n",
    "print(f\"Improvement Over Actual CTR ({click_rate:.2f}%): {model_ctr - click_rate:.2f}%\")"
   ]
  },
  {
   "cell_type": "markdown",
   "id": "3355d1d9",
   "metadata": {},
   "source": [
    "We can test this by simulating targeting only the users most likely to click (top predicted 10%), then calculating the actual click rate among them (from the ground truth labels). If this rate is significantly higher than the global CTR, the model is working!"
   ]
  },
  {
   "cell_type": "markdown",
   "id": "a2fca59c",
   "metadata": {},
   "source": [
    "Section 5: Analysing the segment performance: did different user groups behave differently?"
   ]
  },
  {
   "cell_type": "code",
   "execution_count": 16,
   "id": "3ddb48b4",
   "metadata": {},
   "outputs": [
    {
     "name": "stdout",
     "output_type": "stream",
     "text": [
      "Click Rate by Email Version:\n",
      "email_version\n",
      "generic         1.513673\n",
      "personalized    2.729409\n",
      "Name: clicked, dtype: float64\n",
      "\n",
      "Click Rate by Email Text:\n",
      "email_text\n",
      "long_email     1.853767\n",
      "short_email    2.387177\n",
      "Name: clicked, dtype: float64\n",
      "\n",
      "Click Rate by Country:\n",
      "user_country\n",
      "ES    0.832748\n",
      "FR    0.800400\n",
      "UK    2.467526\n",
      "US    2.435981\n",
      "Name: clicked, dtype: float64\n",
      "\n",
      "Click Rate by Weekday:\n",
      "weekday\n",
      "Friday       1.403682\n",
      "Monday       2.290608\n",
      "Saturday     1.784611\n",
      "Sunday       1.675123\n",
      "Thursday     2.444491\n",
      "Tuesday      2.488864\n",
      "Wednesday    2.761999\n",
      "Name: clicked, dtype: float64\n"
     ]
    }
   ],
   "source": [
    "print(\"Click Rate by Email Version:\")\n",
    "print(email_df.groupby('email_version')['clicked'].mean() * 100)\n",
    "\n",
    "print(\"\\nClick Rate by Email Text:\")\n",
    "print(email_df.groupby('email_text')['clicked'].mean() * 100)\n",
    "\n",
    "print(\"\\nClick Rate by Country:\")\n",
    "print(email_df.groupby('user_country')['clicked'].mean() * 100)\n",
    "\n",
    "print(\"\\nClick Rate by Weekday:\")\n",
    "print(email_df.groupby('weekday')['clicked'].mean() * 100)"
   ]
  },
  {
   "cell_type": "markdown",
   "id": "89045398",
   "metadata": {},
   "source": [
    "Explaining the patterns on how the email campaign performed for different segments of users:\n",
    "\n",
    "1. Email Version Matters\n",
    "Personalized emails clearly outperformed generic ones. The click-through rate for personalized emails was substantially higher, indicating that tailoring content to individual users resonates better and encourages engagement. This supports the idea that a one-size-fits-all strategy is less effective, and incorporating user-specific details can significantly boost results.\n",
    "\n",
    "2. Short Emails Perform Better\n",
    "Shorter emails led to better engagement than longer ones. Users appeared to respond more positively when the message was concise and to the point. This suggests that simplifying the content and minimizing the time needed to process the information can improve click behavior.\n",
    "\n",
    "3. Geographic Differences:\n",
    "There was a stark difference in click performance between countries. Users from the United States and the United Kingdom showed much higher engagement compared to those from France and Spain. This may point to regional differences in interest, familiarity with the platform, or even content relevance. It highlights the importance of localization—future campaigns should consider crafting messages that better align with regional preferences and cultural context, especially for underperforming markets.\n",
    "\n",
    "4. Day of the Week Impact:\n",
    "Engagement was not uniform throughout the week. Mid-week days—particularly Wednesday, followed by Tuesday and Thursday—showed the highest click-through rates. In contrast, weekends and Fridays experienced noticeably lower engagement. This pattern suggests that users are more responsive and likely to interact with marketing content earlier in the week, likely due to routine work habits and higher online presence during those days. "
   ]
  },
  {
   "cell_type": "markdown",
   "id": "7b68b302",
   "metadata": {},
   "source": [
    "Summary of Recommendations:\n",
    "- Use personalized and short-format emails.\n",
    "- Target mid-week (especially Wednesday) for best engagement.\n",
    "- Consider regional strategies—optimize or test different content for low-performing countries like France and Spain.\n",
    "- Use this information to train smarter models and personalize delivery across user segments."
   ]
  }
 ],
 "metadata": {
  "kernelspec": {
   "display_name": "quantacus",
   "language": "python",
   "name": "python3"
  },
  "language_info": {
   "codemirror_mode": {
    "name": "ipython",
    "version": 3
   },
   "file_extension": ".py",
   "mimetype": "text/x-python",
   "name": "python",
   "nbconvert_exporter": "python",
   "pygments_lexer": "ipython3",
   "version": "3.10.17"
  }
 },
 "nbformat": 4,
 "nbformat_minor": 5
}
